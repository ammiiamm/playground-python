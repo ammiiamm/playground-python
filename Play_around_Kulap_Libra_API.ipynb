{
  "nbformat": 4,
  "nbformat_minor": 0,
  "metadata": {
    "colab": {
      "name": "POC_Kulap_Libra_API.ipynb",
      "version": "0.3.2",
      "provenance": [],
      "include_colab_link": true
    },
    "kernelspec": {
      "name": "python3",
      "display_name": "Python 3"
    }
  },
  "cells": [
    {
      "cell_type": "markdown",
      "metadata": {
        "id": "view-in-github",
        "colab_type": "text"
      },
      "source": [
        "<a href=\"https://colab.research.google.com/github/ammiiamm/playground-python/blob/master/Play_around_Kulap_Libra_API.ipynb\" target=\"_parent\"><img src=\"https://colab.research.google.com/assets/colab-badge.svg\" alt=\"Open In Colab\"/></a>"
      ]
    },
    {
      "cell_type": "markdown",
      "metadata": {
        "id": "pjPAQhXyuXfr",
        "colab_type": "text"
      },
      "source": [
        "# **ทดลองเล่น Kulap Libra API**"
      ]
    },
    {
      "cell_type": "markdown",
      "metadata": {
        "id": "0X9TgraNz5wt",
        "colab_type": "text"
      },
      "source": [
        "## **ตั้งต้นสารพัดตัวแปร**"
      ]
    },
    {
      "cell_type": "code",
      "metadata": {
        "id": "eubMY3jXua9z",
        "colab_type": "code",
        "colab": {}
      },
      "source": [
        "import requests\n",
        "\n",
        "\n",
        "#Header for all requests\n",
        "\n",
        "headers = {\n",
        "  'Content-Type': 'application/json'\n",
        "}\n",
        "\n",
        "#API list by Kulap\n",
        "API_CreateWallet = 'https://libraservice3.kulap.io/createWallet'\n",
        "API_Transfer = 'https://libraservice3.kulap.io/transfer'\n",
        "API_Mint = 'https://libraservice3.kulap.io/mint'\n",
        "API_GetBalance = 'https://libraservice3.kulap.io/getBalance'\n",
        "\n",
        "#JSON Text Compose\n",
        "payload_for_init_account = \"{}\"\n",
        "text_address =  \"{\\n\\t\\\"address\\\":\\\"\"\n",
        "text_amount = \"\\\"\"\",\\n\\t\\\"amount\\\":\\\"\"\n",
        "text_end = \"\\\"\"\"\\n}\"\n",
        "text_from_address = \"{\\n\\t\\\"fromAddress\\\": \\\"\"\n",
        "text_from_mnemonic = \"\\\"\"\",\\n\\t\\\"mnemonic\\\": \\\"\"\n",
        "text_to_address = \"\\\"\"\",\\n\\t\\\"toAddress\\\": \\\"\"\n"
      ],
      "execution_count": 0,
      "outputs": []
    },
    {
      "cell_type": "markdown",
      "metadata": {
        "id": "O3h9FL8kujXe",
        "colab_type": "text"
      },
      "source": [
        "## **สร้าง Libra Account**"
      ]
    },
    {
      "cell_type": "markdown",
      "metadata": {
        "id": "V4ckd-9akXVb",
        "colab_type": "text"
      },
      "source": [
        "**สร้าง Libra account_a**"
      ]
    },
    {
      "cell_type": "code",
      "metadata": {
        "id": "P1g2qv_ThqD1",
        "colab_type": "code",
        "colab": {
          "base_uri": "https://localhost:8080/",
          "height": 68
        },
        "outputId": "b57c3447-335a-44eb-b1b1-4110ec5faf14"
      },
      "source": [
        "url = API_CreateWallet\n",
        "\n",
        "account_a = (requests.request('POST', url, headers = headers, data = payload_for_init_account)).json()\n",
        "print(\"Address of account_a = \" + account_a[\"address\"])\n",
        "print(\"Mnemonic of account_a = \" + account_a[\"mnemonic\"])\n",
        "print(\"Init Balance for account_a = \" + account_a[\"balance\"])\n"
      ],
      "execution_count": 2,
      "outputs": [
        {
          "output_type": "stream",
          "text": [
            "Address of account_a = 6a20e894e023522cde29739325fb4b405b5c95270da5898093d9519a2d13a8a6\n",
            "Mnemonic of account_a = dirt venue sure stem swap amateur try dentist school grocery tourist tuna raven clutch stuff issue alpha caught speak improve time cactus tattoo case;1\n",
            "Init Balance for account_a = 100\n"
          ],
          "name": "stdout"
        }
      ]
    },
    {
      "cell_type": "markdown",
      "metadata": {
        "id": "reu7UBIhktUE",
        "colab_type": "text"
      },
      "source": [
        "**สร้าง Libra account_b**"
      ]
    },
    {
      "cell_type": "code",
      "metadata": {
        "id": "6VyKt0L9kk9h",
        "colab_type": "code",
        "colab": {
          "base_uri": "https://localhost:8080/",
          "height": 68
        },
        "outputId": "793c4357-81b1-472f-b098-4f4d4e0ae252"
      },
      "source": [
        "url = API_CreateWallet\n",
        "\n",
        "account_b =(requests.request('POST', url, headers = headers, data = payload_for_init_account)).json()\n",
        "print(\"Address of account_b = \" + account_b[\"address\"])\n",
        "print(\"Mnemonic of account_b = \" + account_b[\"mnemonic\"])\n",
        "print(\"Init Balance for account_b = \" + account_b[\"balance\"])\n"
      ],
      "execution_count": 3,
      "outputs": [
        {
          "output_type": "stream",
          "text": [
            "Address of account_b = b57f2bcadb8429d1b68c0791066640cd27f0d18b3970ebbff658d585d2528fbc\n",
            "Mnemonic of account_b = post salt fashion spell diamond latin tool before piano tackle lock torch author image arm staff hungry sphere cushion pair unaware erosion cake season;1\n",
            "Init Balance for account_b = 100\n"
          ],
          "name": "stdout"
        }
      ]
    },
    {
      "cell_type": "markdown",
      "metadata": {
        "id": "7AAg_OgbupOI",
        "colab_type": "text"
      },
      "source": [
        "## **เสกเงิน (Mint) เข้า Libra Account**"
      ]
    },
    {
      "cell_type": "markdown",
      "metadata": {
        "id": "H9WWTaH8tO65",
        "colab_type": "text"
      },
      "source": [
        "**เสกเงิน (Mint) เข้า account_a**"
      ]
    },
    {
      "cell_type": "code",
      "metadata": {
        "id": "o7zLPUlKtRul",
        "colab_type": "code",
        "colab": {
          "base_uri": "https://localhost:8080/",
          "height": 34
        },
        "outputId": "e423ff73-52a2-4abd-aea4-759cbc2df03a"
      },
      "source": [
        "url = API_Mint\n",
        "\n",
        "set_amount_a = \"1\"\n",
        "\n",
        "payload = text_address+account_a[\"address\"]+text_amount+set_amount_a+text_end\n",
        "mint_a = requests.request('POST', url, headers = headers, data = payload)\n",
        "print(mint_a)"
      ],
      "execution_count": 4,
      "outputs": [
        {
          "output_type": "stream",
          "text": [
            "<Response [200]>\n"
          ],
          "name": "stdout"
        }
      ]
    },
    {
      "cell_type": "markdown",
      "metadata": {
        "id": "qF5oh7eplWaz",
        "colab_type": "text"
      },
      "source": [
        "**เสกเงิน (Mint) เข้า account_b**"
      ]
    },
    {
      "cell_type": "code",
      "metadata": {
        "id": "PUemFVgXlZIY",
        "colab_type": "code",
        "colab": {
          "base_uri": "https://localhost:8080/",
          "height": 34
        },
        "outputId": "49c987c1-a01a-4b2c-f1f7-8df65115bc86"
      },
      "source": [
        "url = API_Mint\n",
        "\n",
        "set_amount_b = \"2\"\n",
        "\n",
        "payload = text_address+account_b[\"address\"]+text_amount+set_amount_b+text_end\n",
        "mint_b = requests.request('POST', url, headers = headers, data = payload)\n",
        "print(mint_b)"
      ],
      "execution_count": 5,
      "outputs": [
        {
          "output_type": "stream",
          "text": [
            "<Response [200]>\n"
          ],
          "name": "stdout"
        }
      ]
    },
    {
      "cell_type": "markdown",
      "metadata": {
        "id": "o0UNXF6DuxLm",
        "colab_type": "text"
      },
      "source": [
        "## **เช็คยอดคงเหลือใน Libra Account #1**"
      ]
    },
    {
      "cell_type": "markdown",
      "metadata": {
        "id": "O9Lv6AwTtbN6",
        "colab_type": "text"
      },
      "source": [
        "**Check Balance ของ account_a**"
      ]
    },
    {
      "cell_type": "code",
      "metadata": {
        "id": "r-ZEx3FbtbxD",
        "colab_type": "code",
        "colab": {
          "base_uri": "https://localhost:8080/",
          "height": 34
        },
        "outputId": "5460b825-4ab6-4145-d4a4-201028e35ae4"
      },
      "source": [
        "url = API_GetBalance\n",
        "\n",
        "payload = text_address+account_a[\"address\"]+text_end\n",
        "balance_a = (requests.request('POST', url, headers = headers, data = payload)).json()\n",
        "print(\"Balance of account_a = \" + balance_a[\"balance\"])"
      ],
      "execution_count": 6,
      "outputs": [
        {
          "output_type": "stream",
          "text": [
            "Balance of account_a = 101\n"
          ],
          "name": "stdout"
        }
      ]
    },
    {
      "cell_type": "markdown",
      "metadata": {
        "id": "CCyi6aPClHyh",
        "colab_type": "text"
      },
      "source": [
        "**Check Balance ของ account_b**"
      ]
    },
    {
      "cell_type": "code",
      "metadata": {
        "id": "j547X_eXk29y",
        "colab_type": "code",
        "colab": {
          "base_uri": "https://localhost:8080/",
          "height": 34
        },
        "outputId": "604ec4ab-01c1-4dc4-e8ab-e1647253e326"
      },
      "source": [
        "url = API_GetBalance\n",
        "\n",
        "payload = text_address+account_b[\"address\"]+text_end\n",
        "balance_b = (requests.request('POST', url, headers = headers, data = payload)).json()\n",
        "print(\"Balance of account_b = \" + balance_b[\"balance\"])"
      ],
      "execution_count": 7,
      "outputs": [
        {
          "output_type": "stream",
          "text": [
            "Balance of account_b = 102\n"
          ],
          "name": "stdout"
        }
      ]
    },
    {
      "cell_type": "markdown",
      "metadata": {
        "id": "he52U1ScvGzX",
        "colab_type": "text"
      },
      "source": [
        "## **โอนเงิน จาก account_a ไป account_b**"
      ]
    },
    {
      "cell_type": "code",
      "metadata": {
        "id": "Kg33IjgIvOj9",
        "colab_type": "code",
        "colab": {
          "base_uri": "https://localhost:8080/",
          "height": 34
        },
        "outputId": "23ca3937-e594-4b5c-f522-dbf6de14911d"
      },
      "source": [
        "url = API_Transfer\n",
        "\n",
        "set_amount_a_to_b = \"1\"\n",
        "\n",
        "payload = text_from_address+account_a[\"address\"]+text_from_mnemonic+account_a[\"mnemonic\"]+text_to_address+account_b[\"address\"]+text_amount+set_amount_a_to_b+text_end\n",
        "print(requests.request('POST', url, headers = headers, data = payload))"
      ],
      "execution_count": 8,
      "outputs": [
        {
          "output_type": "stream",
          "text": [
            "<Response [200]>\n"
          ],
          "name": "stdout"
        }
      ]
    },
    {
      "cell_type": "markdown",
      "metadata": {
        "id": "-z8jRN6xyLL6",
        "colab_type": "text"
      },
      "source": [
        ""
      ]
    },
    {
      "cell_type": "code",
      "metadata": {
        "id": "CKZxqKG-yLXm",
        "colab_type": "code",
        "colab": {
          "base_uri": "https://localhost:8080/",
          "height": 34
        },
        "outputId": "19310775-e6d6-4509-d31b-130ef71ab4fa"
      },
      "source": [
        "url = API_Transfer\n",
        "\n",
        "set_amount_b_to_a = \"2\"\n",
        "\n",
        "payload = text_from_address+account_b[\"address\"]+text_from_mnemonic+account_b[\"mnemonic\"]+text_to_address+account_a[\"address\"]+text_amount+set_amount_b_to_a+text_end\n",
        "print(requests.request('POST', url, headers = headers, data = payload))"
      ],
      "execution_count": 9,
      "outputs": [
        {
          "output_type": "stream",
          "text": [
            "<Response [200]>\n"
          ],
          "name": "stdout"
        }
      ]
    },
    {
      "cell_type": "markdown",
      "metadata": {
        "colab_type": "text",
        "id": "osDwv1bT0xMj"
      },
      "source": [
        "## **เช็คยอดคงเหลือใน Libra Account #2**"
      ]
    },
    {
      "cell_type": "markdown",
      "metadata": {
        "colab_type": "text",
        "id": "lMvZgdKy0xMm"
      },
      "source": [
        "**Check Balance ของ account_a**"
      ]
    },
    {
      "cell_type": "code",
      "metadata": {
        "colab_type": "code",
        "outputId": "b858d35c-6308-40cf-be0e-2a46e22f4dd8",
        "id": "8pkXdxTf0xMo",
        "colab": {
          "base_uri": "https://localhost:8080/",
          "height": 34
        }
      },
      "source": [
        "url = API_GetBalance\n",
        "\n",
        "payload = text_address+account_a[\"address\"]+text_end\n",
        "balance_a = (requests.request('POST', url, headers = headers, data = payload)).json()\n",
        "print(\"Balance of account_a = \" + balance_a[\"balance\"])"
      ],
      "execution_count": 10,
      "outputs": [
        {
          "output_type": "stream",
          "text": [
            "Balance of account_a = 102\n"
          ],
          "name": "stdout"
        }
      ]
    },
    {
      "cell_type": "markdown",
      "metadata": {
        "colab_type": "text",
        "id": "MbljTZ5q0xMu"
      },
      "source": [
        "**Check Balance ของ account_b**"
      ]
    },
    {
      "cell_type": "code",
      "metadata": {
        "colab_type": "code",
        "outputId": "06d975c2-5616-4869-c069-7f642ee86b20",
        "id": "-_io-L4K0xMv",
        "colab": {
          "base_uri": "https://localhost:8080/",
          "height": 34
        }
      },
      "source": [
        "url = API_GetBalance\n",
        "\n",
        "payload = text_address+account_b[\"address\"]+text_end\n",
        "balance_b = (requests.request('POST', url, headers = headers, data = payload)).json()\n",
        "print(\"Balance of account_b = \" + balance_b[\"balance\"])"
      ],
      "execution_count": 11,
      "outputs": [
        {
          "output_type": "stream",
          "text": [
            "Balance of account_b = 101\n"
          ],
          "name": "stdout"
        }
      ]
    }
  ]
}