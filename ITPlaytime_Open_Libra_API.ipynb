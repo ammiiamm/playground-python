{
  "nbformat": 4,
  "nbformat_minor": 0,
  "metadata": {
    "colab": {
      "name": "ITPlaytime_Open_Libra_API.ipynb",
      "version": "0.3.2",
      "provenance": [],
      "include_colab_link": true
    },
    "kernelspec": {
      "name": "python3",
      "display_name": "Python 3"
    }
  },
  "cells": [
    {
      "cell_type": "markdown",
      "metadata": {
        "id": "view-in-github",
        "colab_type": "text"
      },
      "source": [
        "<a href=\"https://colab.research.google.com/github/ammiiamm/playground-python/blob/master/ITPlaytime_Open_Libra_API.ipynb\" target=\"_parent\"><img src=\"https://colab.research.google.com/assets/colab-badge.svg\" alt=\"Open In Colab\"/></a>"
      ]
    },
    {
      "cell_type": "markdown",
      "metadata": {
        "id": "pjPAQhXyuXfr",
        "colab_type": "text"
      },
      "source": [
        "# IT Playtime ชั้น 4 ฐาน Libra Challenger "
      ]
    },
    {
      "cell_type": "code",
      "metadata": {
        "id": "eubMY3jXua9z",
        "colab_type": "code",
        "colab": {}
      },
      "source": [
        "import requests\n",
        "\n",
        "\n",
        "#Header for all requests\n",
        "\n",
        "headers = {\n",
        "  'Content-Type': 'application/json'\n",
        "}\n",
        "\n",
        "#API list by Kulap\n",
        "API_CreateWallet = 'https://libraservice3.kulap.io/createWallet'\n",
        "API_Transfer = 'https://libraservice3.kulap.io/transfer'\n",
        "API_Mint = 'https://libraservice3.kulap.io/mint'\n",
        "API_GetBalance = 'https://libraservice3.kulap.io/getBalance'\n",
        "\n",
        "#API \n",
        "API_BrowseTransaction = \"https://api-testnet.libravista.com/v1/transactions?to=\"\n",
        "\n",
        "#JSON Text Compose\n",
        "payload_for_init_account = \"{}\"\n",
        "text_address =  \"{\\n\\t\\\"address\\\":\\\"\"\n",
        "text_amount = \"\\\"\"\",\\n\\t\\\"amount\\\":\\\"\"\n",
        "text_end = \"\\\"\"\"\\n}\"\n",
        "text_from_address = \"{\\n\\t\\\"fromAddress\\\": \\\"\"\n",
        "text_from_mnemonic = \"\\\"\"\",\\n\\t\\\"mnemonic\\\": \\\"\"\n",
        "text_to_address = \"\\\"\"\",\\n\\t\\\"toAddress\\\": \\\"\"\n"
      ],
      "execution_count": 0,
      "outputs": []
    },
    {
      "cell_type": "markdown",
      "metadata": {
        "id": "O3h9FL8kujXe",
        "colab_type": "text"
      },
      "source": [
        "## **สร้าง Libra Account**"
      ]
    },
    {
      "cell_type": "markdown",
      "metadata": {
        "id": "V4ckd-9akXVb",
        "colab_type": "text"
      },
      "source": [
        "####**สร้าง Libra account_a**"
      ]
    },
    {
      "cell_type": "code",
      "metadata": {
        "id": "P1g2qv_ThqD1",
        "colab_type": "code",
        "colab": {
          "base_uri": "https://localhost:8080/",
          "height": 0
        },
        "outputId": "75388ad6-76e0-413b-ecb0-2016dc260559"
      },
      "source": [
        "url = API_CreateWallet\n",
        "\n",
        "account_a = (requests.request('POST', url, headers = headers, data = payload_for_init_account)).json()\n",
        "print(\"Address of account_a = \" + account_a[\"address\"])\n",
        "print(\"Mnemonic of account_a = \" + account_a[\"mnemonic\"])\n",
        "print(\"Init Balance for account_a = \" + account_a[\"balance\"])\n"
      ],
      "execution_count": 2,
      "outputs": [
        {
          "output_type": "stream",
          "text": [
            "Address of account_a = ebab2e5bd0aec3034a0b83f03982ad66d7dc353d4f2e2857613c71e92c8f05b8\n",
            "Mnemonic of account_a = search garlic film rocket wreck keep galaxy toward lawn hurt empower long green discover candy age annual segment decade disease guilt stamp century egg;1\n",
            "Init Balance for account_a = 100\n"
          ],
          "name": "stdout"
        }
      ]
    },
    {
      "cell_type": "markdown",
      "metadata": {
        "id": "reu7UBIhktUE",
        "colab_type": "text"
      },
      "source": [
        "####**สร้าง Libra account_b**"
      ]
    },
    {
      "cell_type": "code",
      "metadata": {
        "id": "6VyKt0L9kk9h",
        "colab_type": "code",
        "colab": {}
      },
      "source": [
        "# url = API_CreateWallet\n",
        "\n",
        "# account_b =(requests.request('POST', url, headers = headers, data = payload_for_init_account)).json()\n",
        "# print(\"Address of account_b = \" + account_b[\"address\"])\n",
        "# print(\"Mnemonic of account_b = \" + account_b[\"mnemonic\"])\n",
        "# print(\"Init Balance for account_b = \" + account_b[\"balance\"])\n"
      ],
      "execution_count": 0,
      "outputs": []
    },
    {
      "cell_type": "markdown",
      "metadata": {
        "id": "7AAg_OgbupOI",
        "colab_type": "text"
      },
      "source": [
        "## **เสกเงิน (Mint) เข้า Libra Account**"
      ]
    },
    {
      "cell_type": "markdown",
      "metadata": {
        "id": "H9WWTaH8tO65",
        "colab_type": "text"
      },
      "source": [
        "**เสกเงิน (Mint) เข้า account_a**"
      ]
    },
    {
      "cell_type": "code",
      "metadata": {
        "id": "o7zLPUlKtRul",
        "colab_type": "code",
        "colab": {
          "base_uri": "https://localhost:8080/",
          "height": 0
        },
        "outputId": "d04cb527-0607-4f4f-ec42-e6748577b6f9"
      },
      "source": [
        "url = API_Mint\n",
        "\n",
        "set_amount_a = \"01234\"\n",
        "\n",
        "payload = text_address+account_a[\"address\"]+text_amount+set_amount_a+text_end\n",
        "mint_a = requests.request('POST', url, headers = headers, data = payload)\n",
        "print(mint_a)"
      ],
      "execution_count": 3,
      "outputs": [
        {
          "output_type": "stream",
          "text": [
            "<Response [200]>\n"
          ],
          "name": "stdout"
        }
      ]
    },
    {
      "cell_type": "markdown",
      "metadata": {
        "id": "qF5oh7eplWaz",
        "colab_type": "text"
      },
      "source": [
        "####**เสกเงิน (Mint) เข้า account_b**"
      ]
    },
    {
      "cell_type": "code",
      "metadata": {
        "id": "PUemFVgXlZIY",
        "colab_type": "code",
        "colab": {}
      },
      "source": [
        "# url = API_Mint\n",
        "\n",
        "# set_amount_b = \"0\"\n",
        "\n",
        "# payload = text_address+account_b[\"address\"]+text_amount+set_amount_b+text_end\n",
        "# mint_b = requests.request('POST', url, headers = headers, data = payload)\n",
        "# print(mint_b)"
      ],
      "execution_count": 0,
      "outputs": []
    },
    {
      "cell_type": "markdown",
      "metadata": {
        "id": "o0UNXF6DuxLm",
        "colab_type": "text"
      },
      "source": [
        "## **เช็คยอดคงเหลือใน Libra Account**"
      ]
    },
    {
      "cell_type": "markdown",
      "metadata": {
        "id": "O9Lv6AwTtbN6",
        "colab_type": "text"
      },
      "source": [
        "**Check Balance ของ account_a**"
      ]
    },
    {
      "cell_type": "code",
      "metadata": {
        "id": "r-ZEx3FbtbxD",
        "colab_type": "code",
        "colab": {
          "base_uri": "https://localhost:8080/",
          "height": 0
        },
        "outputId": "683a2db3-59a8-4941-a89a-a23e9b4348f5"
      },
      "source": [
        "url = API_GetBalance\n",
        "\n",
        "payload = text_address+account_a[\"address\"]+text_end\n",
        "balance_a = (requests.request('POST', url, headers = headers, data = payload)).json()\n",
        "print(\"Balance of account_a = \" + balance_a[\"balance\"])"
      ],
      "execution_count": 5,
      "outputs": [
        {
          "output_type": "stream",
          "text": [
            "Balance of account_a = 1334\n"
          ],
          "name": "stdout"
        }
      ]
    },
    {
      "cell_type": "markdown",
      "metadata": {
        "id": "CCyi6aPClHyh",
        "colab_type": "text"
      },
      "source": [
        "####**Check Balance ของ account_b**"
      ]
    },
    {
      "cell_type": "code",
      "metadata": {
        "id": "j547X_eXk29y",
        "colab_type": "code",
        "colab": {}
      },
      "source": [
        "# url = API_GetBalance\n",
        "\n",
        "# payload = text_address+account_b[\"address\"]+text_end\n",
        "# balance_b = (requests.request('POST', url, headers = headers, data = payload)).json()\n",
        "# print(\"Balance of account_b = \" + balance_b[\"balance\"])"
      ],
      "execution_count": 0,
      "outputs": []
    },
    {
      "cell_type": "markdown",
      "metadata": {
        "id": "dv-_zugQF12q",
        "colab_type": "text"
      },
      "source": [
        "## **โอนเงิน**"
      ]
    },
    {
      "cell_type": "markdown",
      "metadata": {
        "id": "he52U1ScvGzX",
        "colab_type": "text"
      },
      "source": [
        "### **จาก account_a ไป account_b**"
      ]
    },
    {
      "cell_type": "code",
      "metadata": {
        "id": "Kg33IjgIvOj9",
        "colab_type": "code",
        "colab": {}
      },
      "source": [
        "# url = API_Transfer\n",
        "\n",
        "# set_amount_a_to_b = \"1\"\n",
        "\n",
        "# payload = text_from_address+account_a[\"address\"]+text_from_mnemonic+account_a[\"mnemonic\"]+text_to_address+account_b[\"address\"]+text_amount+set_amount_a_to_b+text_end\n",
        "# print(requests.request('POST', url, headers = headers, data = payload))"
      ],
      "execution_count": 0,
      "outputs": []
    },
    {
      "cell_type": "markdown",
      "metadata": {
        "id": "-z8jRN6xyLL6",
        "colab_type": "text"
      },
      "source": [
        "### **จาก account_b ไป account_a**"
      ]
    },
    {
      "cell_type": "code",
      "metadata": {
        "id": "CKZxqKG-yLXm",
        "colab_type": "code",
        "colab": {}
      },
      "source": [
        "# url = API_Transfer\n",
        "\n",
        "# set_amount_b_to_a = \"2\"\n",
        "\n",
        "# payload = text_from_address+account_b[\"address\"]+text_from_mnemonic+account_b[\"mnemonic\"]+text_to_address+account_a[\"address\"]+text_amount+set_amount_b_to_a+text_end\n",
        "# print(requests.request('POST', url, headers = headers, data = payload))"
      ],
      "execution_count": 0,
      "outputs": []
    },
    {
      "cell_type": "markdown",
      "metadata": {
        "id": "Y5Y-AOmr_mhX",
        "colab_type": "text"
      },
      "source": [
        "## **Libra Transaction**"
      ]
    },
    {
      "cell_type": "markdown",
      "metadata": {
        "id": "Bt9JEx3WGWVP",
        "colab_type": "text"
      },
      "source": [
        "####**Here it is the submitted amount to account_a**"
      ]
    },
    {
      "cell_type": "code",
      "metadata": {
        "id": "jVtfwjpG_sOz",
        "colab_type": "code",
        "colab": {
          "base_uri": "https://localhost:8080/",
          "height": 0
        },
        "outputId": "e5b565f2-a855-4cba-bfb6-b63145513330"
      },
      "source": [
        "a_txn_list = requests.request('GET', API_BrowseTransaction + account_a[\"address\"], headers = headers).json()\n",
        "\n",
        "for x in range(0, 300):\n",
        "  try:\n",
        "    if (a_txn_list['data']['list'][x]['txId'] != \"185304\"):\n",
        "      print(a_txn_list['data']['list'][x]['txId']+\": \"+a_txn_list['data']['list'][x]['amount'])\n",
        "  except IndexError:\n",
        "    gotdata = 'null'"
      ],
      "execution_count": 9,
      "outputs": [
        {
          "output_type": "stream",
          "text": [
            "187397: 1234\n",
            "187394: 100\n"
          ],
          "name": "stdout"
        }
      ]
    },
    {
      "cell_type": "markdown",
      "metadata": {
        "colab_type": "text",
        "id": "3FiQ46ViH6e0"
      },
      "source": [
        "####**Here it is the submitted amount to account_b**"
      ]
    },
    {
      "cell_type": "code",
      "metadata": {
        "colab_type": "code",
        "id": "eKDzC_3BH8S_",
        "colab": {}
      },
      "source": [
        "# b_txn_list = requests.request('GET', API_BrowseTransaction + account_b[\"address\"], headers = headers).json()\n",
        "\n",
        "# for x in range(0, 300):\n",
        "#   try:\n",
        "#     if (b_txn_list['data']['list'][x]['txId'] != \"185311\"):\n",
        "#       print(b_txn_list['data']['list'][x]['txId']+\": \"+b_txn_list['data']['list'][x]['amount'])\n",
        "#   except IndexError:\n",
        "#     gotdata = 'null'"
      ],
      "execution_count": 0,
      "outputs": []
    },
    {
      "cell_type": "markdown",
      "metadata": {
        "colab_type": "text",
        "id": "pAoapb0YKvvm"
      },
      "source": [
        "# ให้โอน Libra Coin ด้วยยอด Libra เท่ากับรหัสพนักงาน \n",
        "หากขึ้นต้นด้วย 0 ให้ลบหลักแรกออก"
      ]
    },
    {
      "cell_type": "code",
      "metadata": {
        "id": "HfU0jWrtNF2-",
        "colab_type": "code",
        "colab": {
          "base_uri": "https://localhost:8080/",
          "height": 34
        },
        "cellView": "form",
        "outputId": "4123f5a0-d79a-42f0-e2c7-47675359607d"
      },
      "source": [
        "#@title\n",
        "print(\"โดยให้โอนมาที่บัญชี: \" + account_a[\"address\"])"
      ],
      "execution_count": 11,
      "outputs": [
        {
          "output_type": "stream",
          "text": [
            "โดยให้โอนมาที่บัญชี: ebab2e5bd0aec3034a0b83f03982ad66d7dc353d4f2e2857613c71e92c8f05b8\n"
          ],
          "name": "stdout"
        }
      ]
    },
    {
      "cell_type": "code",
      "metadata": {
        "colab_type": "code",
        "outputId": "562b9472-83f9-4707-ade7-b4f4e7a2b0eb",
        "id": "djluFpn2LKVt",
        "colab": {
          "base_uri": "https://localhost:8080/",
          "height": 85
        },
        "cellView": "form"
      },
      "source": [
        "#@title\n",
        "print(\"Here it is the submitted amount to account_a:\\n\")\n",
        "a_txn_list = requests.request('GET', API_BrowseTransaction + account_a[\"address\"], headers = headers).json()\n",
        "\n",
        "for x in range(0, 300):\n",
        "  try:\n",
        "    if (a_txn_list['data']['list'][x]['txId'] != \"187279\"):\n",
        "      print(a_txn_list['data']['list'][x]['txId']+\": \"+a_txn_list['data']['list'][x]['amount'])\n",
        "  except IndexError:\n",
        "    gotdata = 'null'"
      ],
      "execution_count": 12,
      "outputs": [
        {
          "output_type": "stream",
          "text": [
            "Here it is the submitted amount to account_a:\n",
            "\n",
            "187397: 1234\n",
            "187394: 100\n"
          ],
          "name": "stdout"
        }
      ]
    }
  ]
}