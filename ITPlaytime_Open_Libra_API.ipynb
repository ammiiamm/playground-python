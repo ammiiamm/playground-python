{
  "nbformat": 4,
  "nbformat_minor": 0,
  "metadata": {
    "colab": {
      "name": "ITPlaytime_Open_Libra_API.ipynb",
      "version": "0.3.2",
      "provenance": [],
      "include_colab_link": true
    },
    "kernelspec": {
      "name": "python3",
      "display_name": "Python 3"
    }
  },
  "cells": [
    {
      "cell_type": "markdown",
      "metadata": {
        "id": "view-in-github",
        "colab_type": "text"
      },
      "source": [
        "<a href=\"https://colab.research.google.com/github/ammiiamm/playground-python/blob/master/ITPlaytime_Open_Libra_API.ipynb\" target=\"_parent\"><img src=\"https://colab.research.google.com/assets/colab-badge.svg\" alt=\"Open In Colab\"/></a>"
      ]
    },
    {
      "cell_type": "markdown",
      "metadata": {
        "id": "pjPAQhXyuXfr",
        "colab_type": "text"
      },
      "source": [
        "# Libra Challenger "
      ]
    },
    {
      "cell_type": "markdown",
      "metadata": {
        "id": "OIyoeERAHEy-",
        "colab_type": "text"
      },
      "source": [
        "#### **Init**"
      ]
    },
    {
      "cell_type": "code",
      "metadata": {
        "id": "eubMY3jXua9z",
        "colab_type": "code",
        "colab": {},
        "cellView": "form"
      },
      "source": [
        "#@title\n",
        "import requests\n",
        "\n",
        "\n",
        "#Header for all requests\n",
        "\n",
        "headers = {\n",
        "  'Content-Type': 'application/json'\n",
        "}\n",
        "\n",
        "#API list by Kulap\n",
        "API_CreateWallet = 'https://libraservice3.kulap.io/createWallet'\n",
        "API_Transfer = 'https://libraservice3.kulap.io/transfer'\n",
        "API_Mint = 'https://libraservice3.kulap.io/mint'\n",
        "API_GetBalance = 'https://libraservice3.kulap.io/getBalance'\n",
        "\n",
        "#API \n",
        "API_BrowseTransaction = \"https://api-testnet.libravista.com/v1/transactions?to=\"\n",
        "\n",
        "#JSON Text Compose\n",
        "payload_for_init_account = \"{}\"\n",
        "text_address =  \"{\\n\\t\\\"address\\\":\\\"\"\n",
        "text_amount = \"\\\"\"\",\\n\\t\\\"amount\\\":\\\"\"\n",
        "text_end = \"\\\"\"\"\\n}\"\n",
        "text_from_address = \"{\\n\\t\\\"fromAddress\\\": \\\"\"\n",
        "text_from_mnemonic = \"\\\"\"\",\\n\\t\\\"mnemonic\\\": \\\"\"\n",
        "text_to_address = \"\\\"\"\",\\n\\t\\\"toAddress\\\": \\\"\"\n"
      ],
      "execution_count": 0,
      "outputs": []
    },
    {
      "cell_type": "markdown",
      "metadata": {
        "id": "O3h9FL8kujXe",
        "colab_type": "text"
      },
      "source": [
        "#### **สร้าง Libra Account**"
      ]
    },
    {
      "cell_type": "code",
      "metadata": {
        "id": "P1g2qv_ThqD1",
        "colab_type": "code",
        "outputId": "691a3b68-b94d-4d80-829b-e39f59f5c23a",
        "colab": {
          "base_uri": "https://localhost:8080/",
          "height": 88
        },
        "cellView": "form"
      },
      "source": [
        "#@title\n",
        "url = API_CreateWallet\n",
        "\n",
        "account_a = (requests.request('POST', url, headers = headers, data = payload_for_init_account)).json()\n",
        "print(\"Address of account_a = \" + account_a[\"address\"])\n",
        "print(\"Mnemonic of account_a = \" + account_a[\"mnemonic\"])\n",
        "print(\"Init Balance for account_a = \" + account_a[\"balance\"])\n"
      ],
      "execution_count": 2,
      "outputs": [
        {
          "output_type": "stream",
          "text": [
            "Address of account_a = 57d068b1d1415a347e68e64f68cbd75ea9e267a134d55d36d8ce7811fbb9baf1\n",
            "Mnemonic of account_a = grab seminar order amazing impact idea wire butter choose adult donor stairs bargain orchard hard deputy attack denial enlist circle half long develop early;1\n",
            "Init Balance for account_a = 100\n"
          ],
          "name": "stdout"
        }
      ]
    },
    {
      "cell_type": "markdown",
      "metadata": {
        "id": "7AAg_OgbupOI",
        "colab_type": "text"
      },
      "source": [
        "#### **เสกเงิน (Mint) เข้า Libra Account**"
      ]
    },
    {
      "cell_type": "code",
      "metadata": {
        "id": "o7zLPUlKtRul",
        "colab_type": "code",
        "outputId": "750a7ce6-ca2c-4856-d3fe-2a89c7dee764",
        "colab": {
          "base_uri": "https://localhost:8080/",
          "height": 34
        },
        "cellView": "form"
      },
      "source": [
        "#@title\n",
        "url = API_Mint\n",
        "\n",
        "set_amount_a = \"01234\"\n",
        "\n",
        "payload = text_address+account_a[\"address\"]+text_amount+set_amount_a+text_end\n",
        "mint_a = requests.request('POST', url, headers = headers, data = payload)\n",
        "print(mint_a)"
      ],
      "execution_count": 3,
      "outputs": [
        {
          "output_type": "stream",
          "text": [
            "<Response [200]>\n"
          ],
          "name": "stdout"
        }
      ]
    },
    {
      "cell_type": "markdown",
      "metadata": {
        "id": "o0UNXF6DuxLm",
        "colab_type": "text"
      },
      "source": [
        "#### **เช็คยอดคงเหลือใน Libra Account**"
      ]
    },
    {
      "cell_type": "code",
      "metadata": {
        "id": "r-ZEx3FbtbxD",
        "colab_type": "code",
        "outputId": "19f35768-82dd-4fb3-e59f-04f6dfc9512e",
        "colab": {
          "base_uri": "https://localhost:8080/",
          "height": 34
        },
        "cellView": "form"
      },
      "source": [
        "#@title\n",
        "url = API_GetBalance\n",
        "\n",
        "payload = text_address+account_a[\"address\"]+text_end\n",
        "balance_a = (requests.request('POST', url, headers = headers, data = payload)).json()\n",
        "print(\"Balance of account_a = \" + balance_a[\"balance\"])"
      ],
      "execution_count": 4,
      "outputs": [
        {
          "output_type": "stream",
          "text": [
            "Balance of account_a = 1334\n"
          ],
          "name": "stdout"
        }
      ]
    },
    {
      "cell_type": "markdown",
      "metadata": {
        "id": "Y5Y-AOmr_mhX",
        "colab_type": "text"
      },
      "source": [
        "#### **เช็คการทำรายการ Libra**"
      ]
    },
    {
      "cell_type": "code",
      "metadata": {
        "id": "jVtfwjpG_sOz",
        "colab_type": "code",
        "outputId": "3bd2d706-0eaf-41fb-9880-18be83e0752d",
        "colab": {
          "base_uri": "https://localhost:8080/",
          "height": 34
        },
        "cellView": "form"
      },
      "source": [
        "#@title\n",
        "a_txn_list = requests.request('GET', API_BrowseTransaction + account_a[\"address\"], headers = headers).json()\n",
        "\n",
        "for x in range(0, 300):\n",
        "  try:\n",
        "    if (a_txn_list['data']['list'][x]['txId'] != \"185304\"):\n",
        "      print(a_txn_list['data']['list'][x]['txId']+\": \"+a_txn_list['data']['list'][x]['amount'])\n",
        "  except IndexError:\n",
        "    gotdata = 'null'"
      ],
      "execution_count": 5,
      "outputs": [
        {
          "output_type": "stream",
          "text": [
            "206041: 100\n"
          ],
          "name": "stdout"
        }
      ]
    },
    {
      "cell_type": "markdown",
      "metadata": {
        "colab_type": "text",
        "id": "pAoapb0YKvvm"
      },
      "source": [
        "# ให้โอน Libra Coin ด้วยยอด Libra เท่ากับรหัสพนักงาน \n",
        "หากขึ้นต้นด้วย 0 ให้ลบหลักแรกออก"
      ]
    },
    {
      "cell_type": "code",
      "metadata": {
        "id": "HfU0jWrtNF2-",
        "colab_type": "code",
        "cellView": "form",
        "outputId": "be0bf87f-0aa7-4b81-a385-5027c131577d",
        "colab": {
          "base_uri": "https://localhost:8080/",
          "height": 34
        }
      },
      "source": [
        "#@title\n",
        "print(\"โดยให้โอนมาที่บัญชี: \" + account_a[\"address\"])"
      ],
      "execution_count": 6,
      "outputs": [
        {
          "output_type": "stream",
          "text": [
            "โดยให้โอนมาที่บัญชี: 57d068b1d1415a347e68e64f68cbd75ea9e267a134d55d36d8ce7811fbb9baf1\n"
          ],
          "name": "stdout"
        }
      ]
    },
    {
      "cell_type": "code",
      "metadata": {
        "colab_type": "code",
        "outputId": "713dc383-60a4-486d-ecc3-b56a3a218bd1",
        "id": "djluFpn2LKVt",
        "cellView": "form",
        "colab": {
          "base_uri": "https://localhost:8080/",
          "height": 85
        }
      },
      "source": [
        "#@title\n",
        "print(\"Here it is the submitted amount to account_a:\\n\")\n",
        "a_txn_list = requests.request('GET', API_BrowseTransaction + account_a[\"address\"], headers = headers).json()\n",
        "\n",
        "for x in range(0, 300):\n",
        "  try:\n",
        "    if (a_txn_list['data']['list'][x]['txId'] != \"187279\"):\n",
        "      print(a_txn_list['data']['list'][x]['txId']+\": \"+a_txn_list['data']['list'][x]['amount'])\n",
        "  except IndexError:\n",
        "    gotdata = 'null'"
      ],
      "execution_count": 8,
      "outputs": [
        {
          "output_type": "stream",
          "text": [
            "Here it is the submitted amount to account_a:\n",
            "\n",
            "206044: 1234\n",
            "206041: 100\n"
          ],
          "name": "stdout"
        }
      ]
    }
  ]
}