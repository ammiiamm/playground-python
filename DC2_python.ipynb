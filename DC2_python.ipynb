{
  "nbformat": 4,
  "nbformat_minor": 0,
  "metadata": {
    "colab": {
      "name": "DC2-python.ipynb",
      "provenance": [],
      "authorship_tag": "ABX9TyMowKZBDuZ+Nhgm718LKMVY",
      "include_colab_link": true
    },
    "kernelspec": {
      "name": "python3",
      "display_name": "Python 3"
    },
    "language_info": {
      "name": "python"
    }
  },
  "cells": [
    {
      "cell_type": "markdown",
      "metadata": {
        "id": "view-in-github",
        "colab_type": "text"
      },
      "source": [
        "<a href=\"https://colab.research.google.com/github/ammiiamm/playground-python/blob/master/DC2_python.ipynb\" target=\"_parent\"><img src=\"https://colab.research.google.com/assets/colab-badge.svg\" alt=\"Open In Colab\"/></a>"
      ]
    },
    {
      "cell_type": "markdown",
      "metadata": {
        "id": "ODRAObNhoqXt"
      },
      "source": [
        "# Introduction to Python"
      ]
    },
    {
      "cell_type": "markdown",
      "metadata": {
        "id": "GBIwH95Yo0uz"
      },
      "source": [
        "Question 1: \n",
        "Write a program that will calculate the geometric sum of n-1: "
      ]
    },
    {
      "cell_type": "code",
      "metadata": {
        "colab": {
          "base_uri": "https://localhost:8080/"
        },
        "id": "EpImnqSoo5n1",
        "outputId": "28fad94b-7b6d-4b10-e1f4-bb9b6831d689"
      },
      "source": [
        "def geometric_sum(n):\n",
        "  if n < 0:\n",
        "    return 0\n",
        "  else:\n",
        "    print(\"value of n\",n)\n",
        "    #print(pow(2,n))\n",
        "    #print(\"formular: \",\"1 /\",pow(2,n), \"+\", geometric_sum(n - 1))\n",
        "    #print(\"return\", 1 / (pow(2,n)) + geometric_sum(n - 1))\n",
        "    return 1 / (pow(2,n)) + geometric_sum(n - 1)\n",
        "\n",
        "print (geometric_sum(2))"
      ],
      "execution_count": 3,
      "outputs": [
        {
          "output_type": "stream",
          "text": [
            "value of n 2\n",
            "value of n 1\n",
            "value of n 0\n",
            "1.75\n"
          ],
          "name": "stdout"
        }
      ]
    },
    {
      "cell_type": "markdown",
      "metadata": {
        "id": "a-uzKP5go55Y"
      },
      "source": [
        "Question 2: Write a program that read csv files and find simple statistics of the data such as min, max, sum, average etc. and calculate standard deviation."
      ]
    },
    {
      "cell_type": "code",
      "metadata": {
        "id": "svaY0ieKo775"
      },
      "source": [
        ""
      ],
      "execution_count": null,
      "outputs": []
    }
  ]
}