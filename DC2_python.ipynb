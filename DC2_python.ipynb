{
  "nbformat": 4,
  "nbformat_minor": 0,
  "metadata": {
    "colab": {
      "name": "DC2-python.ipynb",
      "provenance": [],
      "collapsed_sections": [
        "TTL_rGy68MPz"
      ],
      "toc_visible": true,
      "authorship_tag": "ABX9TyNIfcy1EFnnm5+DJENJJTZn",
      "include_colab_link": true
    },
    "kernelspec": {
      "name": "python3",
      "display_name": "Python 3"
    },
    "language_info": {
      "name": "python"
    }
  },
  "cells": [
    {
      "cell_type": "markdown",
      "metadata": {
        "id": "view-in-github",
        "colab_type": "text"
      },
      "source": [
        "<a href=\"https://colab.research.google.com/github/ammiiamm/playground-python/blob/master/DC2_python.ipynb\" target=\"_parent\"><img src=\"https://colab.research.google.com/assets/colab-badge.svg\" alt=\"Open In Colab\"/></a>"
      ]
    },
    {
      "cell_type": "markdown",
      "metadata": {
        "id": "ODRAObNhoqXt"
      },
      "source": [
        "# Introduction to Python"
      ]
    },
    {
      "cell_type": "markdown",
      "metadata": {
        "id": "GBIwH95Yo0uz"
      },
      "source": [
        "Question 1: \n",
        "Write a program that will calculate the geometric sum of n-1: "
      ]
    },
    {
      "cell_type": "code",
      "metadata": {
        "colab": {
          "base_uri": "https://localhost:8080/"
        },
        "id": "EpImnqSoo5n1",
        "outputId": "c97b1356-813c-415e-b013-4c199a8969ff"
      },
      "source": [
        "def geometric_sum(n):\n",
        "  if n < 0:\n",
        "    return 0\n",
        "  else:\n",
        "    #print(\"value of n\",n)\n",
        "    #print(pow(2,n))\n",
        "    return 1 / (pow(2,n)) + geometric_sum(n - 1)\n",
        "\n",
        "print (geometric_sum(8))\n",
        "print (geometric_sum(5))\n",
        "print (geometric_sum(2))"
      ],
      "execution_count": 44,
      "outputs": [
        {
          "output_type": "stream",
          "text": [
            "1.99609375\n",
            "1.96875\n",
            "1.75\n"
          ],
          "name": "stdout"
        }
      ]
    },
    {
      "cell_type": "markdown",
      "metadata": {
        "id": "a-uzKP5go55Y"
      },
      "source": [
        "Question 2: Write a program that read csv files and find simple statistics of the data such as min, max, sum, average etc. and calculate standard deviation."
      ]
    },
    {
      "cell_type": "code",
      "metadata": {
        "colab": {
          "base_uri": "https://localhost:8080/"
        },
        "id": "KR00tgbQrDzh",
        "outputId": "048159f5-566a-4555-ed65-4e26a176fca6"
      },
      "source": [
        "import csv\n",
        "import numpy as np \n",
        "import pandas as pd\n",
        "\n",
        "#(1) Read data from sample file\n",
        "try:\n",
        "  filename = '/content/sample_data/california_housing_test.csv'\n",
        "  df = pd.read_csv(filename)\n",
        "  if df is not None:\n",
        "    print(\"[x] Read CSV file: california housing\")\n",
        "    #Turn column data total_rooms to numpy\n",
        "    total_rooms = df['total_rooms'].to_numpy()\n",
        "    #(2) Simple statistics of total rooms in california housing by using numpy\n",
        "    print(\"[x] Find simple statistics of total rooms in california housing by using numpy:\")\n",
        "    print(\">>> MIN =\",np.min(total_rooms))\n",
        "    print(\">>> MAX =\",np.max(total_rooms))\n",
        "    print(\">>> SUM =\",round(np.sum(total_rooms),2))\n",
        "    print(\">>> AVERAGE =\",round(np.average(total_rooms,None,None,False),2))\n",
        "    print(\">>> Standard Deviation =\",round(np.std(total_rooms),2))\n",
        "except Exception as e:\n",
        "  print(\"[ ] Error in reading CSV file:\",filename) \n",
        "  print(e)"
      ],
      "execution_count": 33,
      "outputs": [
        {
          "output_type": "stream",
          "text": [
            "[x] Read CSV file: california housing\n",
            "[x] Find simple statistics of total rooms in california housing by using numpy:\n",
            ">>> MIN = 6.0\n",
            ">>> MAX = 30450.0\n",
            ">>> SUM = 7798736.0\n",
            ">>> AVERAGE = 2599.58\n",
            ">>> Standard Deviation = 2155.23\n"
          ],
          "name": "stdout"
        }
      ]
    },
    {
      "cell_type": "markdown",
      "metadata": {
        "id": "knhBEAld72L_"
      },
      "source": [
        "# Introduction to Data Analytics"
      ]
    },
    {
      "cell_type": "markdown",
      "metadata": {
        "id": "m-P43cTM7-IM"
      },
      "source": [
        "Find data source and try to do some forecasting on this data source"
      ]
    },
    {
      "cell_type": "code",
      "metadata": {
        "id": "sDejkxqd8JBk"
      },
      "source": [
        ""
      ],
      "execution_count": null,
      "outputs": []
    },
    {
      "cell_type": "markdown",
      "metadata": {
        "id": "i861i4_q8BN2"
      },
      "source": [
        "Think of the problem that you can applied Network Theory / Social Network Analysis"
      ]
    },
    {
      "cell_type": "code",
      "metadata": {
        "id": "mtvGVHBk8KXp"
      },
      "source": [
        ""
      ],
      "execution_count": null,
      "outputs": []
    },
    {
      "cell_type": "markdown",
      "metadata": {
        "id": "TTL_rGy68MPz"
      },
      "source": [
        "# In class"
      ]
    },
    {
      "cell_type": "code",
      "metadata": {
        "colab": {
          "base_uri": "https://localhost:8080/"
        },
        "id": "JtSsNu0L6KU-",
        "outputId": "bfa65b41-9f6c-4c93-f73b-0221fd6b231c"
      },
      "source": [
        "a=0\n",
        "i=0\n",
        "num =7\n",
        "while(i<num):\n",
        "  a=a+i\n",
        "  i = i+3\n",
        "\n",
        "b= a % 5\n",
        "c=a+b\n",
        "print(c)"
      ],
      "execution_count": 40,
      "outputs": [
        {
          "output_type": "stream",
          "text": [
            "13\n"
          ],
          "name": "stdout"
        }
      ]
    }
  ]
}